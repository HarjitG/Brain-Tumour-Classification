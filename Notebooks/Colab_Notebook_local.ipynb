{
  "cells": [
    {
      "cell_type": "code",
      "execution_count": null,
      "metadata": {
        "id": "T7W69BWGdRzk"
      },
      "outputs": [],
      "source": [
        "#!apt-get install git\n",
        "#!pip install opencv-python"
      ]
    },
    {
      "cell_type": "markdown",
      "metadata": {
        "id": "UheCJK-1lbUv"
      },
      "source": [
        "## Original Notebook classifying all 4 classes:\n",
        "- 0 : Glioma Tumor\n",
        "- 1 : Meningioma Tumor\n",
        "- 2 : No Tumor\n",
        "- 3 : Pituitary Tumor"
      ]
    },
    {
      "cell_type": "code",
      "execution_count": null,
      "metadata": {
        "id": "dWl8F8husnDx"
      },
      "outputs": [],
      "source": [
        "import sys\n",
        "sys.path.append('../src/')"
      ]
    },
    {
      "cell_type": "code",
      "execution_count": null,
      "metadata": {
        "id": "poE1TsVjsy2i"
      },
      "outputs": [],
      "source": [
        "import pandas as pd\n",
        "import numpy as np\n",
        "import matplotlib.pyplot as plt\n",
        "import seaborn as sns\n",
        "import tensorflow as tf\n",
        "import cv2\n",
        "import os\n",
        "import shutil\n",
        "import imghdr\n",
        "import random\n",
        "import mlflow\n",
        "import Data_Augmentation\n",
        "import Data_Loader\n",
        "import Plotting_functions\n",
        "import Model_Builder\n",
        "import Data_Cleaning\n",
        "from keras.callbacks import EarlyStopping\n",
        "from keras.regularizers import l2\n",
        "\n",
        "from tensorflow.keras.models import Sequential\n",
        "from tensorflow.keras.layers import Conv2D, MaxPooling2D, Dense, Flatten, Dropout\n",
        "from tensorflow.keras.metrics import Precision, Recall, BinaryAccuracy\n",
        "from tensorflow.keras.utils import to_categorical\n",
        "\n",
        "from Data_Loader import DataLoader\n",
        "from Data_Augmentation import Data_Augmentation\n",
        "from Data_Cleaning import Cleaner\n",
        "from Plotting_functions import Plotting_functions\n",
        "from Model_Builder import CNNModel\n"
      ]
    },
    {
      "cell_type": "code",
      "execution_count": null,
      "metadata": {},
      "outputs": [],
      "source": [
        "#Initialise class\n",
        "data_loader = DataLoader()\n",
        "Augmentator = Data_Augmentation()\n",
        "ModelBuilder = CNNModel()\n",
        "Cleaning = Cleaner(ModelBuilder)\n",
        "\n"
      ]
    },
    {
      "cell_type": "markdown",
      "metadata": {
        "id": "ok4U0raRunCo"
      },
      "source": [
        "### Data Source: [Brain Tumor Classification (MRI)](https://www.kaggle.com/datasets/sartajbhuvaji/brain-tumor-classification-mri)"
      ]
    },
    {
      "cell_type": "code",
      "execution_count": null,
      "metadata": {
        "id": "jfOo5XUugp6f"
      },
      "outputs": [],
      "source": [
        "training_path = '/Users/harjitgakhal/Documents/Github_Repositories/Brain-Tumour-Classification/Images_Brain/Training'\n",
        "testing_path = '/Users/harjitgakhal/Documents/Github_Repositories/Brain-Tumour-Classification/Images_Brain/Testing'"
      ]
    },
    {
      "cell_type": "code",
      "execution_count": null,
      "metadata": {
        "colab": {
          "base_uri": "https://localhost:8080/"
        },
        "id": "JaM2JIE8kt0l",
        "outputId": "7436e962-83d1-4425-fbf7-db304c09c69a"
      },
      "outputs": [],
      "source": [
        "# !nvidia-smi"
      ]
    },
    {
      "cell_type": "code",
      "execution_count": null,
      "metadata": {
        "colab": {
          "base_uri": "https://localhost:8080/",
          "height": 35
        },
        "id": "PAGAWpF5lYQ6",
        "outputId": "21f3f56a-a123-4706-f26b-c1ecf7d18699"
      },
      "outputs": [],
      "source": [
        "# import tensorflow as tf\n",
        "# tf.test.gpu_device_name()"
      ]
    },
    {
      "cell_type": "markdown",
      "metadata": {
        "id": "neCjovYgtK3E"
      },
      "source": [
        "We can see from the above output that Tensorflow is utilising the NVIDIA Tesla T4 GPU."
      ]
    },
    {
      "cell_type": "code",
      "execution_count": null,
      "metadata": {
        "id": "hMARpiNlttjj"
      },
      "outputs": [],
      "source": [
        "# # Avoid OOM errors by setting GPU Memory Consumption Growth\n",
        "# gpus = tf.config.experimental.list_physical_devices('GPU')\n",
        "# for gpu in gpus:\n",
        "#     tf.config.experimental.set_memory_growth(gpu, True)"
      ]
    },
    {
      "cell_type": "code",
      "execution_count": null,
      "metadata": {
        "id": "7YDKEOP_wat7"
      },
      "outputs": [],
      "source": []
    },
    {
      "cell_type": "code",
      "execution_count": null,
      "metadata": {
        "colab": {
          "base_uri": "https://localhost:8080/"
        },
        "id": "2Cy-MEeii8zE",
        "outputId": "2a27345a-ae5e-41a4-e714-1a299fa9ad38"
      },
      "outputs": [],
      "source": [
        "# Checking to see the different folders within our path\n",
        "for image_class in os.listdir(training_path):\n",
        "  print(image_class)\n"
      ]
    },
    {
      "cell_type": "code",
      "execution_count": null,
      "metadata": {
        "colab": {
          "base_uri": "https://localhost:8080/"
        },
        "id": "GQaQIhAX9Ytr",
        "outputId": "46709654-6af8-4628-802e-3b71b1655c6f"
      },
      "outputs": [],
      "source": [
        "img = cv2.imread(os.path.join(training_path, 'pituitary_tumor', 'p (503).jpg'))\n",
        "img.shape # We can see the image is a 512x512 with a depth of 3"
      ]
    },
    {
      "cell_type": "code",
      "execution_count": null,
      "metadata": {
        "colab": {
          "base_uri": "https://localhost:8080/",
          "height": 435
        },
        "id": "d308-Gk_9v7p",
        "outputId": "6e07743d-5743-4a06-96a4-f335adef587d"
      },
      "outputs": [],
      "source": [
        "plt.imshow(cv2.cvtColor(img, cv2.COLOR_BGR2RGB ))\n",
        "plt.show()"
      ]
    },
    {
      "cell_type": "markdown",
      "metadata": {
        "id": "4Ki3o7zKF00m"
      },
      "source": [
        "# Loading data"
      ]
    },
    {
      "cell_type": "markdown",
      "metadata": {
        "id": "ROFAJPqaKKA7"
      },
      "source": [
        "The datset was already split into testing and training data so we do not need to define these later"
      ]
    },
    {
      "cell_type": "code",
      "execution_count": null,
      "metadata": {},
      "outputs": [],
      "source": [
        "# Load the training dataset\n",
        "Training_data = data_loader.Load_Training_data(training_path)\n",
        "# Load the validation dataset\n",
        "Validation_data = data_loader.Load_Validaion_data(training_path)\n",
        "# Load the testing dataset\n",
        "Testing_data = data_loader.Load_Testing_data(testing_path)"
      ]
    },
    {
      "cell_type": "code",
      "execution_count": null,
      "metadata": {
        "id": "9-60ZebtGeMU"
      },
      "outputs": [],
      "source": [
        "# Required to plot the graphs\n",
        "\n",
        "Training_iterator = Training_data.as_numpy_iterator()\n",
        "Testing_iterator = Testing_data.as_numpy_iterator()\n",
        "batch_training = Training_iterator.next()\n",
        "\n",
        "# Inspect class names\n",
        "class_names = Training_data.class_names\n",
        "print(\"Class Names:\", class_names)\n",
        "\n",
        "Plotter = Plotting_functions(class_names)\n"
      ]
    },
    {
      "cell_type": "code",
      "execution_count": null,
      "metadata": {
        "colab": {
          "base_uri": "https://localhost:8080/"
        },
        "id": "D-STgTobLGON",
        "outputId": "c013364c-ba36-4af9-d98d-0882ad7329d6"
      },
      "outputs": [],
      "source": [
        "print(batch_training[0].shape) # Images are now of dimension 256 x 256\n",
        "print(batch_training[1]) # Labels are 0,1,2 and 3 for the different classes"
      ]
    },
    {
      "cell_type": "code",
      "execution_count": null,
      "metadata": {},
      "outputs": [],
      "source": [
        "def plot_tumour(batch_training, label = None):\n",
        "    fig, ax = plt.subplots(ncols = 4, figsize = (20,20))\n",
        "    \n",
        "    for idx, img_index in enumerate([1,13,4,5]):\n",
        "        ax[idx].imshow(batch_training[0][img_index].astype(int))\n",
        "\n",
        "        #Take default label or assign to custom names\n",
        "        if label is None:\n",
        "            current_label = batch_training[1][img_index]\n",
        "        else:\n",
        "            current_label = label[img_index]\n",
        "\n",
        "        ax[idx].title.set_text(current_label)\n",
        "\n",
        "    plt.tight_layout()  # Adjust layout to fit everything nicely\n",
        "    plt.show()"
      ]
    },
    {
      "cell_type": "code",
      "execution_count": null,
      "metadata": {},
      "outputs": [],
      "source": []
    },
    {
      "cell_type": "code",
      "execution_count": null,
      "metadata": {},
      "outputs": [],
      "source": [
        "plot_tumour(batch_training)"
      ]
    },
    {
      "cell_type": "markdown",
      "metadata": {
        "id": "Pu9punx8_C9k"
      },
      "source": [
        "#### Labels\n",
        "-   0 : Glioma Tumor\n",
        "-   1 : Meningioma Tumor\n",
        "-   2 : No Tumor\n",
        "-   3 : Pituitary Tumor\n"
      ]
    },
    {
      "cell_type": "code",
      "execution_count": null,
      "metadata": {},
      "outputs": [],
      "source": [
        "# fig, ax = plt.subplots(ncols = 4, figsize = (20,20))\n",
        "# for idx, img_index in enumerate([1,13,4,5]):\n",
        "#     ax[idx].imshow(batch_training[0][img_index].astype(int))\n",
        "#     ax[idx].title.set_text(class_names[batch_training[1][img_index]])\n",
        "#     print(img_index)\n",
        "#     print(batch_training[1][img_index])\n",
        "\n",
        "labels = [class_names[label] for label in batch_training[1]]\n",
        "\n",
        "plot_tumour(batch_training, labels)\n",
        "\n"
      ]
    },
    {
      "cell_type": "markdown",
      "metadata": {
        "id": "wAWiSvm-YV4L"
      },
      "source": [
        "# Preprocessing Data"
      ]
    },
    {
      "cell_type": "code",
      "execution_count": null,
      "metadata": {
        "id": "LIZ7xrHL2pN_"
      },
      "outputs": [],
      "source": [
        "num_classes = 4\n",
        "\n",
        "# Load the training dataset\n",
        "Training_data = Training_data.map(Augmentator.augment_image)\n",
        "Training_data = Training_data.map(lambda x, y: (x / 255.0, tf.one_hot(y, num_classes)))\n",
        "\n",
        "# Load the validation dataset\n",
        "Validation_data = Validation_data.map(Augmentator.augment_image)\n",
        "Validation_data = Validation_data.map(lambda x, y: (x / 255.0, tf.one_hot(y, num_classes)))\n",
        "\n",
        "# Load the testing dataset\n",
        "#Validation_data = Validation_data.map(augment_image)\n",
        "Testing_data = Testing_data.map(lambda x, y: (x / 255.0, tf.one_hot(y, num_classes)))\n",
        "\n",
        "# X is Images\n",
        "# Y is Labels\n"
      ]
    },
    {
      "cell_type": "code",
      "execution_count": null,
      "metadata": {
        "colab": {
          "base_uri": "https://localhost:8080/",
          "height": 455
        },
        "id": "oJdc_4Awbh88",
        "outputId": "2647c0ae-5f19-493c-d4b8-2f8e36d2a7f1"
      },
      "outputs": [],
      "source": [
        "batch_training = Training_data.as_numpy_iterator().next()\n",
        "\n",
        "fig, ax = plt.subplots(ncols = 4, figsize = (20,20))\n",
        "for idx, img_index in enumerate([12,13,14,15]):\n",
        "    ax[idx].imshow(batch_training[0][img_index])\n",
        "    ax[idx].title.set_text(batch_training[1][img_index])\n",
        "\n",
        "\n",
        "    batch_training = Training_data.as_numpy_iterator().next()\n",
        "\n",
        "plot_tumour(batch_training)\n",
        "\n"
      ]
    },
    {
      "cell_type": "markdown",
      "metadata": {
        "id": "-38HlsAkvXUp"
      },
      "source": [
        "#### Labels\n",
        "-   [1,0,0,0] : Glioma Tumor\n",
        "-   [0,1,0,0]  : Meningioma Tumor\n",
        "-   [0,0,1,0]  : No Tumor\n",
        "-   [0,0,0,1]  : Pituitary Tumor\n"
      ]
    },
    {
      "cell_type": "markdown",
      "metadata": {
        "id": "SMVRab6mfZLH"
      },
      "source": [
        "# Deep Model"
      ]
    },
    {
      "cell_type": "code",
      "execution_count": null,
      "metadata": {
        "id": "jwcqnmOYhFcX"
      },
      "outputs": [],
      "source": [
        "logdir = \"/Users/harjitgakhal/Documents/Github_Repositories/Brain-Tumour-Classification/Notebooks/logs\"\n",
        "\n",
        "# Initialise class\n",
        "\n",
        "\n",
        "\n",
        "# Build the model with custom hyperparameters\n",
        "ModelBuilder.build_model()\n",
        "\n",
        "# Compile the model\n",
        "ModelBuilder.compile()\n",
        "\n",
        "\n",
        "ModelBuilder.summary()\n",
        "\n",
        "# Train the model\n",
        "hist = ModelBuilder.train(\n",
        "    Training_data=Training_data,\n",
        "    Validation_data=Validation_data,\n",
        "    epochs=2,\n",
        "    log_dir=logdir,\n",
        ")"
      ]
    },
    {
      "cell_type": "code",
      "execution_count": null,
      "metadata": {},
      "outputs": [],
      "source": []
    },
    {
      "cell_type": "code",
      "execution_count": null,
      "metadata": {},
      "outputs": [],
      "source": []
    },
    {
      "cell_type": "code",
      "execution_count": null,
      "metadata": {},
      "outputs": [],
      "source": []
    },
    {
      "cell_type": "code",
      "execution_count": null,
      "metadata": {
        "id": "A5O-1fKMhWQW"
      },
      "outputs": [],
      "source": [
        "# model = Sequential()\n",
        "\n",
        "# l2_1 = l2(0.002)\n",
        "# l2_2 = l2(0.002)\n",
        "# l2_3 = l2(0.002)\n",
        "# # First have an input layer, going to have 16 filters, filter is a 3x3, stride of 1\n",
        "# # Relu activation turns negative values to 0, and preserves positive values\n",
        "# model.add(Conv2D(16, (3,3), 1, activation = 'relu', input_shape = (256,256,3)))\n",
        "# model.add(MaxPooling2D())\n",
        "\n",
        "# model.add(Conv2D(64, (3,3), 1, activation = 'relu'))\n",
        "# model.add(MaxPooling2D())\n",
        "\n",
        "# model.add(Conv2D(64, (3,3), 1, activation = 'relu'))\n",
        "# model.add(MaxPooling2D())\n",
        "\n",
        "# model.add(Flatten()) # condense values\n",
        "\n",
        "# # Fully connected layers\n",
        "# model.add(Dense(64, activation = 'relu', kernel_regularizer = l2_1))\n",
        "# model.add(Dropout(rate =0.1))\n",
        "\n",
        "# model.add(Dense(256, activation = 'relu', kernel_regularizer = l2_2))\n",
        "# model.add(Dropout(rate=0.1))\n",
        "\n",
        "# model.add(Dense(256, activation = 'relu', kernel_regularizer = l2_3))\n",
        "# model.add(Dropout(rate=0.1))\n",
        "\n",
        "\n",
        "# # Final layer that gives a single output and represets the label\n",
        "# model.add(Dense(4, activation = 'softmax'))"
      ]
    },
    {
      "cell_type": "code",
      "execution_count": null,
      "metadata": {},
      "outputs": [],
      "source": [
        "# mlflow.log_param(\"l2_1\", l2_1)\n",
        "# mlflow.log_param(\"l2_2\", l2_2)\n",
        "# mlflow.log_param(\"l2_3\", l2_3)"
      ]
    },
    {
      "cell_type": "markdown",
      "metadata": {
        "id": "ErD1GxmNpH6e"
      },
      "source": [
        "## Training"
      ]
    },
    {
      "cell_type": "code",
      "execution_count": null,
      "metadata": {
        "id": "0tHGi-2RhWJh"
      },
      "outputs": [],
      "source": [
        "# logdir = '/Users/harjitgakhal/Documents/Github_Repositories/Brain-Tumour-Classification/Notebooks/logs'\n",
        "\n",
        "# tensorboard_callback = tf.keras.callbacks.TensorBoard(log_dir = logdir)\n",
        "\n",
        "# early_stopping = EarlyStopping(monitor='val_loss', patience=3)"
      ]
    },
    {
      "cell_type": "code",
      "execution_count": null,
      "metadata": {},
      "outputs": [],
      "source": [
        "# ModelBuilder.model.fit(\n",
        "#     Training_data,\n",
        "#     epochs=1,\n",
        "#     validation_data=Validation_data,\n",
        "#     callbacks=[tensorboard_callback, early_stopping],\n",
        "# )"
      ]
    },
    {
      "cell_type": "code",
      "execution_count": null,
      "metadata": {
        "colab": {
          "base_uri": "https://localhost:8080/"
        },
        "id": "jWZolqh2hV2r",
        "outputId": "6c1a07e9-d092-4afe-c052-21da6b1d7204"
      },
      "outputs": [],
      "source": [
        "# hist = model.fit(\n",
        "#     Training_data,\n",
        "#     epochs=1,\n",
        "#     validation_data=Validation_data,\n",
        "#     callbacks=[tensorboard_callback, early_stopping],\n",
        "# )"
      ]
    },
    {
      "cell_type": "code",
      "execution_count": null,
      "metadata": {},
      "outputs": [],
      "source": [
        "hist"
      ]
    },
    {
      "cell_type": "markdown",
      "metadata": {
        "id": "HwRGgeruo7G6"
      },
      "source": [
        "## Model Evaluation"
      ]
    },
    {
      "cell_type": "code",
      "execution_count": null,
      "metadata": {},
      "outputs": [],
      "source": [
        "Plotter = Plotting_functions(class_names)\n",
        "\n",
        "Plotter.plot_loss(hist)"
      ]
    },
    {
      "cell_type": "code",
      "execution_count": null,
      "metadata": {},
      "outputs": [],
      "source": [
        "Plotter.plot_accuracy(hist)"
      ]
    },
    {
      "cell_type": "markdown",
      "metadata": {
        "id": "DWltgbzMpPW3"
      },
      "source": [
        "## Testing data"
      ]
    },
    {
      "cell_type": "code",
      "execution_count": null,
      "metadata": {},
      "outputs": [],
      "source": [
        "X_test, labels_testing = Cleaning.Testing_data_cleaner(Testing_data)"
      ]
    },
    {
      "cell_type": "code",
      "execution_count": null,
      "metadata": {},
      "outputs": [],
      "source": [
        "#y_, yhat_binary, pre, re, acc = Cleaning.y_predictor(X_test,labels_testing, ModelBuilder)"
      ]
    },
    {
      "cell_type": "markdown",
      "metadata": {},
      "source": []
    },
    {
      "cell_type": "code",
      "execution_count": null,
      "metadata": {},
      "outputs": [],
      "source": []
    },
    {
      "cell_type": "code",
      "execution_count": null,
      "metadata": {
        "id": "sjO5CPmthVv1"
      },
      "outputs": [],
      "source": [
        "pre = Precision()\n",
        "re = Recall()\n",
        "acc = BinaryAccuracy()"
      ]
    },
    {
      "cell_type": "code",
      "execution_count": null,
      "metadata": {},
      "outputs": [],
      "source": [
        "def Testing_data_cleaner(Test_data):\n",
        "    labels_testing = []\n",
        "    X_test =[]\n",
        "\n",
        "    for batch in Test_data.as_numpy_iterator():\n",
        "        x_test, y_test = batch\n",
        "        y_test = [np.where(row == 1)[0][0].tolist() for row in y_test] # Gets the position of the 1 to determine the type of tumor and assigns to a list\n",
        "        labels_testing.extend(y_test)\n",
        "        X_test.extend(x_test)\n",
        "\n",
        "    labels_testing = np.array(labels_testing) # Full y_test labels transformed\n",
        "    X_test = np.array(X_test) # Full X_test data\n",
        "\n",
        "    return X_test, labels_testing\n"
      ]
    },
    {
      "cell_type": "code",
      "execution_count": null,
      "metadata": {},
      "outputs": [],
      "source": [
        "X_test, labels_testing = Testing_data_cleaner(Testing_data)"
      ]
    },
    {
      "cell_type": "code",
      "execution_count": null,
      "metadata": {
        "id": "HtXd9FcNhVqh"
      },
      "outputs": [],
      "source": [
        "# labels_testing = []\n",
        "# X_test =[]\n",
        "\n",
        "# for batch in Testing_data.as_numpy_iterator():\n",
        "#     x_test, y_test = batch\n",
        "#     y_test = [np.where(row == 1)[0][0].tolist() for row in y_test] # Gets the position of the 1 to determine the type of tumor and assigns to a list\n",
        "#     labels_testing.extend(y_test)\n",
        "#     X_test.extend(x_test)\n",
        "\n",
        "# labels_testing = np.array(labels_testing) # Full y_test labels transformed\n",
        "# X_test = np.array(X_test) # Full X_test data"
      ]
    },
    {
      "cell_type": "code",
      "execution_count": null,
      "metadata": {
        "id": "H-BpifDlWYA3"
      },
      "outputs": [],
      "source": [
        "def y_predictor(X_test, labels_testing):\n",
        "    y_ = labels_testing # Our true y values\n",
        "    yhat_ =[] # Empty list for predicted variables\n",
        "\n",
        "    yhat = ModelBuilder.model.predict(X_test)\n",
        "    yhat_binary = np.argmax(yhat, axis=1) # gets value of 1 and position\n",
        "    yhat_.append(yhat_binary)\n",
        "\n",
        "    pre.update_state(y_, yhat_binary)\n",
        "    re.update_state(y_, yhat_binary)\n",
        "    acc.update_state(y_, yhat_binary)\n",
        "\n",
        "    print(f'Precision: {pre.result().numpy()}')\n",
        "    print(f'Recall: {re.result().numpy()}')\n",
        "    print(f'Accuracy: {acc.result().numpy()}')\n",
        "\n",
        "    return y_, yhat_binary, pre, re, acc\n"
      ]
    },
    {
      "cell_type": "code",
      "execution_count": null,
      "metadata": {},
      "outputs": [],
      "source": [
        "y_, yhat_binary, pre, re, acc = y_predictor(X_test,labels_testing)"
      ]
    },
    {
      "cell_type": "code",
      "execution_count": null,
      "metadata": {
        "id": "AXoas0e2hVWX"
      },
      "outputs": [],
      "source": [
        "# pre = Precision()\n",
        "# re = Recall()\n",
        "# acc = BinaryAccuracy()"
      ]
    },
    {
      "cell_type": "code",
      "execution_count": null,
      "metadata": {
        "id": "cTRxjQschVUr"
      },
      "outputs": [],
      "source": [
        "# y_ = labels_testing # Our true y values\n",
        "# yhat_ =[] # Empty list for predicted variables\n",
        "\n",
        "# yhat = ModelBuilder.model.predict(X_test)\n",
        "# yhat_binary = np.argmax(yhat, axis=1) # gets value of 1 and position\n",
        "# yhat_.append(yhat_binary)\n",
        "\n",
        "# pre.update_state(y_, yhat_binary)\n",
        "# re.update_state(y_, yhat_binary)\n",
        "# acc.update_state(y_, yhat_binary)"
      ]
    },
    {
      "cell_type": "code",
      "execution_count": null,
      "metadata": {
        "colab": {
          "base_uri": "https://localhost:8080/"
        },
        "id": "virOAVkqPpmN",
        "outputId": "a222621d-2d20-4845-ffc8-54b93ff7dc03"
      },
      "outputs": [],
      "source": [
        "# print(f'Precision: {pre.result().numpy()}')\n",
        "# print(f'Recall: {re.result().numpy()}')\n",
        "# print(f'Accuracy: {acc.result().numpy()}')"
      ]
    },
    {
      "cell_type": "markdown",
      "metadata": {
        "id": "UOqJSbIk978y"
      },
      "source": [
        "### Confusion Matrix"
      ]
    },
    {
      "cell_type": "code",
      "execution_count": null,
      "metadata": {},
      "outputs": [],
      "source": [
        "Plotter.plot_confusion_matrix(y_, yhat_binary)"
      ]
    },
    {
      "cell_type": "markdown",
      "metadata": {
        "id": "cDi0n1XiP9kK"
      },
      "source": [
        "We can say that while Meningioma, Pituitary, and No tumor are being picked up well, Glioma tumor however isn't so easily and is something that would require future work"
      ]
    },
    {
      "cell_type": "markdown",
      "metadata": {
        "id": "mrk6R3HipX0n"
      },
      "source": [
        "## Saving model"
      ]
    },
    {
      "cell_type": "code",
      "execution_count": null,
      "metadata": {
        "id": "2kV_OW-u02RE"
      },
      "outputs": [],
      "source": [
        "model.save('/content/drive/MyDrive/projects/Brain_Tumor_Classification/model')"
      ]
    }
  ],
  "metadata": {
    "accelerator": "GPU",
    "colab": {
      "authorship_tag": "ABX9TyOpUccOoPh6ODgDyxvA7tKU",
      "collapsed_sections": [
        "ErD1GxmNpH6e"
      ],
      "gpuType": "T4",
      "mount_file_id": "1Eh5AmLPum5HNEOkOSpgc-IQO0j3MJXrb",
      "provenance": []
    },
    "kernelspec": {
      "display_name": "Python 3",
      "name": "python3"
    },
    "language_info": {
      "codemirror_mode": {
        "name": "ipython",
        "version": 3
      },
      "file_extension": ".py",
      "mimetype": "text/x-python",
      "name": "python",
      "nbconvert_exporter": "python",
      "pygments_lexer": "ipython3",
      "version": "3.10.11"
    }
  },
  "nbformat": 4,
  "nbformat_minor": 0
}
